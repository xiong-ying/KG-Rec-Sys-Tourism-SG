{
 "cells": [
  {
   "cell_type": "markdown",
   "metadata": {},
   "source": [
    "# import package and data"
   ]
  },
  {
   "cell_type": "code",
   "execution_count": 1,
   "metadata": {},
   "outputs": [],
   "source": [
    "import pandas as pd\n",
    "import os\n",
    "import configparser\n",
    "from neo4j import GraphDatabase\n",
    "import textwrap\n",
    "\n",
    "# Set the display format for float values, to avoid using scientific notation for big number\n",
    "pd.options.display.float_format = '{:.0f}'.format"
   ]
  },
  {
   "cell_type": "markdown",
   "metadata": {},
   "source": [
    "# Connect to neo4j"
   ]
  },
  {
   "cell_type": "code",
   "execution_count": 2,
   "metadata": {},
   "outputs": [
    {
     "name": "stdout",
     "output_type": "stream",
     "text": [
      "Using custom database properties\n"
     ]
    }
   ],
   "source": [
    "# Using an ini file for credentials, otherwise providing defaults\n",
    "HOST = 'neo4j://localhost'\n",
    "DATABASE = 'neo4j'\n",
    "PASSWORD = 'password'\n",
    "\n",
    "NEO4J_CONF_FILE = 'neo4j.ini'\n",
    "\n",
    "if NEO4J_CONF_FILE is not None and os.path.exists(NEO4J_CONF_FILE):\n",
    "    config = configparser.RawConfigParser()\n",
    "    config.read(NEO4J_CONF_FILE)\n",
    "    HOST = config['NEO4J']['HOST']\n",
    "    DATABASE = config['NEO4J']['DATABASE']\n",
    "    PASSWORD = config['NEO4J']['PASSWORD']\n",
    "    print('Using custom database properties')\n",
    "else:\n",
    "    print('Could not find database properties file, using defaults')"
   ]
  },
  {
   "cell_type": "code",
   "execution_count": 3,
   "metadata": {},
   "outputs": [],
   "source": [
    "# create neo4j Python driver\n",
    "driver = GraphDatabase.driver(HOST, auth=(DATABASE, PASSWORD))"
   ]
  },
  {
   "cell_type": "code",
   "execution_count": 4,
   "metadata": {},
   "outputs": [],
   "source": [
    "# helper function\n",
    "def run(driver, query, params=None):\n",
    "    with driver.session() as session:\n",
    "        if params is not None:\n",
    "            return [r for r in session.run(query, params)]\n",
    "        else:\n",
    "            return [r for r in session.run(query)]"
   ]
  },
  {
   "cell_type": "markdown",
   "metadata": {},
   "source": [
    "## set unique constraints"
   ]
  },
  {
   "cell_type": "code",
   "execution_count": 5,
   "metadata": {},
   "outputs": [
    {
     "data": {
      "text/plain": [
       "[]"
      ]
     },
     "execution_count": 5,
     "metadata": {},
     "output_type": "execute_result"
    }
   ],
   "source": [
    "run(driver,'CREATE CONSTRAINT user_id_unique IF NOT EXISTS FOR (user:User) REQUIRE user.id IS UNIQUE')\n",
    "\n",
    "run(driver,'CREATE CONSTRAINT origin_id_unique IF NOT EXISTS FOR (origin:Origin) REQUIRE origin.id IS UNIQUE')\n",
    "\n",
    "run(driver,'CREATE CONSTRAINT poi_id_unique IF NOT EXISTS FOR (poi:Poi) REQUIRE poi.id IS UNIQUE')\n",
    "\n",
    "run(driver,'CREATE CONSTRAINT category_id_unique IF NOT EXISTS FOR (category:Category) REQUIRE category.id IS UNIQUE')\n",
    "\n",
    "run(driver,'CREATE CONSTRAINT region_id_unique IF NOT EXISTS FOR (region:Region) REQUIRE region.id IS UNIQUE')\n",
    "\n",
    "run(driver,'CREATE CONSTRAINT review_id_unique IF NOT EXISTS FOR (review:Review) REQUIRE review.id IS UNIQUE')"
   ]
  },
  {
   "cell_type": "markdown",
   "metadata": {},
   "source": [
    "hosted .csv on Github,\n",
    "below are the path to find .csv files"
   ]
  },
  {
   "cell_type": "markdown",
   "metadata": {},
   "source": [
    "if using dropbox to host the .csv file\n",
    "steps:\n",
    "1. make sure the share permission is \"Anyone with the link can view\"\n",
    "2. download the file, go to browser download center\n",
    "3. right click on the download of .csv, copy link address, replace the url below"
   ]
  },
  {
   "cell_type": "code",
   "execution_count": 6,
   "metadata": {},
   "outputs": [],
   "source": [
    "# import .csv files are hostsed on Github for easier access\n",
    "\n",
    "url_node_category = 'https://raw.githubusercontent.com/xiong-ying/neo4j-import/main/df_node_category.csv'\n",
    "\n",
    "url_node_origin = 'https://raw.githubusercontent.com/xiong-ying/neo4j-import/main/df_node_origin.csv'\n",
    "\n",
    "url_node_poi = 'https://raw.githubusercontent.com/xiong-ying/neo4j-import/main/df_node_poi.csv'\n",
    "\n",
    "url_node_region = 'https://raw.githubusercontent.com/xiong-ying/neo4j-import/main/df_node_region.csv'\n",
    "\n",
    "url_node_review_1 = 'https://raw.githubusercontent.com/xiong-ying/neo4j-import/main/df_node_review_1.csv'\n",
    "\n",
    "url_node_review_2 = 'https://raw.githubusercontent.com/xiong-ying/neo4j-import/main/df_node_review_2.csv'\n",
    "\n",
    "url_node_user = 'https://raw.githubusercontent.com/xiong-ying/neo4j-import/main/df_node_user.csv'\n",
    "\n",
    "url_poi_belongsto_category = 'https://raw.githubusercontent.com/xiong-ying/neo4j-import/main/df_poi_belongsto_category.csv'\n",
    "\n",
    "url_poi_locatedat_region = 'https://raw.githubusercontent.com/xiong-ying/neo4j-import/main/df_poi_locatedat_region.csv'\n",
    "\n",
    "url_user_from_origin = 'https://raw.githubusercontent.com/xiong-ying/neo4j-import/main/df_user_from_origin.csv'\n",
    "\n",
    "url_user_reviewed_poi = 'https://raw.githubusercontent.com/xiong-ying/neo4j-import/main/df_user_reviewed_poi.csv'\n",
    "\n",
    "\n",
    "# directory = \"neo4j_import\""
   ]
  },
  {
   "cell_type": "markdown",
   "metadata": {},
   "source": [
    "## Load Nodes"
   ]
  },
  {
   "cell_type": "code",
   "execution_count": 7,
   "metadata": {},
   "outputs": [
    {
     "data": {
      "text/plain": [
       "[<Record count(category)=42>]"
      ]
     },
     "execution_count": 7,
     "metadata": {},
     "output_type": "execute_result"
    }
   ],
   "source": [
    "# df_node_category\n",
    "run(driver, textwrap.dedent(\"\"\"\\\n",
    "    LOAD CSV WITH HEADERS FROM $file AS row\n",
    "    MERGE(category:Category {id: toInteger(row.id), name: row.name})\n",
    "    RETURN count(category)\n",
    "    \"\"\"),\n",
    "    params = {'file': url_node_category}\n",
    ")"
   ]
  },
  {
   "cell_type": "code",
   "execution_count": 8,
   "metadata": {},
   "outputs": [
    {
     "data": {
      "text/plain": [
       "[<Record count(origin)=9403>]"
      ]
     },
     "execution_count": 8,
     "metadata": {},
     "output_type": "execute_result"
    }
   ],
   "source": [
    "# df_node_origin\n",
    "run(driver, textwrap.dedent(\"\"\"\\\n",
    "    LOAD CSV WITH HEADERS FROM $file AS row\n",
    "    MERGE(origin:Origin {id: toInteger(row.id), name: row.name})\n",
    "    RETURN count(origin)\n",
    "    \"\"\"),\n",
    "    params = {'file': url_node_origin}\n",
    ")"
   ]
  },
  {
   "cell_type": "code",
   "execution_count": 9,
   "metadata": {},
   "outputs": [
    {
     "data": {
      "text/plain": [
       "[<Record count(poi)=69>]"
      ]
     },
     "execution_count": 9,
     "metadata": {},
     "output_type": "execute_result"
    }
   ],
   "source": [
    "#df_node_poi\n",
    "run(driver, textwrap.dedent(\"\"\"\\\n",
    "    LOAD CSV WITH HEADERS FROM $file AS row\n",
    "    MERGE (poi:Poi {id: toInteger(row.id)})\n",
    "    ON CREATE SET\n",
    "        poi.name = coalesce(row.name, ''),\n",
    "        poi.description = coalesce(row.description, ''),\n",
    "        poi.url = coalesce(row.url, ''),\n",
    "        poi.openingHours = coalesce(row.openingHours, ''),\n",
    "        poi.duration = coalesce(row.duration, ''),\n",
    "        poi.price = toFloat(coalesce(row.price, '0.0')),\n",
    "        poi.address = coalesce(row.address, ''),\n",
    "        poi.avgRating = toFloat(coalesce(row.avgRating, '0.0')),\n",
    "        poi.numReviews = toInteger(coalesce(row.numReviews, '0')),\n",
    "        poi.numReviews_5 = toInteger(coalesce(row.numReviews_5, '0')),\n",
    "        poi.numReviews_4 = toInteger(coalesce(row.numReviews_4, '0')),\n",
    "        poi.numReviews_3 = toInteger(coalesce(row.numReviews_3, '0')),\n",
    "        poi.numReviews_2 = toInteger(coalesce(row.numReviews_2, '0')),\n",
    "        poi.numReviews_1 = toInteger(coalesce(row.numReviews_1, '0'))\n",
    "    RETURN count(poi)\n",
    "    \"\"\"),\n",
    "    params = {'file': url_node_poi}\n",
    ")\n"
   ]
  },
  {
   "cell_type": "code",
   "execution_count": 10,
   "metadata": {},
   "outputs": [
    {
     "data": {
      "text/plain": [
       "[<Record count(region)=29>]"
      ]
     },
     "execution_count": 10,
     "metadata": {},
     "output_type": "execute_result"
    }
   ],
   "source": [
    "# df_node_region\n",
    "run(driver, textwrap.dedent(\"\"\"\\\n",
    "    LOAD CSV WITH HEADERS FROM $file AS row\n",
    "    MERGE(region:Region {id: toInteger(row.id), name: row.name})\n",
    "    RETURN count(region)\n",
    "    \"\"\"),\n",
    "    params = {'file': url_node_region}\n",
    ")"
   ]
  },
  {
   "cell_type": "code",
   "execution_count": 11,
   "metadata": {},
   "outputs": [
    {
     "data": {
      "text/plain": [
       "[<Record count(review)=45227>]"
      ]
     },
     "execution_count": 11,
     "metadata": {},
     "output_type": "execute_result"
    }
   ],
   "source": [
    "#df_node_review_1\n",
    "run(driver, textwrap.dedent(\"\"\"\\\n",
    "    LOAD CSV WITH HEADERS FROM $file AS row\n",
    "    MERGE (review:Review {id: toInteger(row.id)})\n",
    "    ON CREATE SET\n",
    "        review.title = coalesce(row.title, ''),\n",
    "        review.date = date(coalesce(row.date, '')),\n",
    "\t\t\t\treview.rating = toFloat(coalesce(row.rating, '0.0')),\n",
    "\t\t\t\treview.content = coalesce(row.content, '')\n",
    "    RETURN count(review)\n",
    "    \"\"\"),\n",
    "    params = {'file': url_node_review_1}\n",
    ")"
   ]
  },
  {
   "cell_type": "code",
   "execution_count": 12,
   "metadata": {},
   "outputs": [
    {
     "data": {
      "text/plain": [
       "[<Record count(review)=45228>]"
      ]
     },
     "execution_count": 12,
     "metadata": {},
     "output_type": "execute_result"
    }
   ],
   "source": [
    "#df_node_review_2\n",
    "run(driver, textwrap.dedent(\"\"\"\\\n",
    "    LOAD CSV WITH HEADERS FROM $file AS row\n",
    "    MERGE (review:Review {id: toInteger(row.id)})\n",
    "    ON CREATE SET\n",
    "        review.title = coalesce(row.title, ''),\n",
    "        review.date = date(coalesce(row.date, '')),\n",
    "\t\t\t\treview.rating = toFloat(coalesce(row.rating, '0.0')),\n",
    "\t\t\t\treview.content = coalesce(row.content, '')\n",
    "    RETURN count(review)\n",
    "    \"\"\"),\n",
    "    params = {'file': url_node_review_2}\n",
    ")"
   ]
  },
  {
   "cell_type": "code",
   "execution_count": 13,
   "metadata": {},
   "outputs": [
    {
     "data": {
      "text/plain": [
       "[<Record count(user)=58656>]"
      ]
     },
     "execution_count": 13,
     "metadata": {},
     "output_type": "execute_result"
    }
   ],
   "source": [
    "# df_node_user\n",
    "run(driver, textwrap.dedent(\"\"\"\\\n",
    "    LOAD CSV WITH HEADERS FROM $file AS row\n",
    "    MERGE(user:User {id: toInteger(row.id), name: row.name})\n",
    "    RETURN count(user)\n",
    "    \"\"\"),\n",
    "    params = {'file': url_node_user}\n",
    ")"
   ]
  },
  {
   "cell_type": "markdown",
   "metadata": {},
   "source": [
    "# Load Relationship"
   ]
  },
  {
   "cell_type": "code",
   "execution_count": 14,
   "metadata": {},
   "outputs": [
    {
     "data": {
      "text/plain": [
       "[<Record BELONGS_TO_count=95>]"
      ]
     },
     "execution_count": 14,
     "metadata": {},
     "output_type": "execute_result"
    }
   ],
   "source": [
    "# df_poi_belongsto_category\n",
    "run(driver, textwrap.dedent(\"\"\"\\\n",
    "    LOAD CSV WITH HEADERS FROM $file AS row\n",
    "    MATCH (poi:Poi {id: toInteger(row.poi_id)})\n",
    "    MATCH (category:Category {id: toInteger(row.category_id)})\n",
    "    MERGE (poi)-[r:BELONGS_TO]->(category)\n",
    "    RETURN count(r) AS BELONGS_TO_count\n",
    "    \"\"\"),\n",
    "    params = {'file': url_poi_belongsto_category}\n",
    ")"
   ]
  },
  {
   "cell_type": "code",
   "execution_count": 15,
   "metadata": {},
   "outputs": [
    {
     "data": {
      "text/plain": [
       "[<Record LOCATED_AT_count=65>]"
      ]
     },
     "execution_count": 15,
     "metadata": {},
     "output_type": "execute_result"
    }
   ],
   "source": [
    "# df_poi_locatedat_region\n",
    "run(driver, textwrap.dedent(\"\"\"\\\n",
    "    LOAD CSV WITH HEADERS FROM $file AS row\n",
    "    MATCH (poi:Poi {id: toInteger(row.poi_id)})\n",
    "    MATCH (region:Region {id: toInteger(row.region_id)})\n",
    "    MERGE (poi)-[r:LOCATED_AT]->(region)\n",
    "    RETURN count(r) AS LOCATED_AT_count\n",
    "    \"\"\"),\n",
    "    params = {'file': url_poi_locatedat_region}\n",
    ")"
   ]
  },
  {
   "cell_type": "code",
   "execution_count": 16,
   "metadata": {},
   "outputs": [
    {
     "data": {
      "text/plain": [
       "[<Record FROM_count=51278>]"
      ]
     },
     "execution_count": 16,
     "metadata": {},
     "output_type": "execute_result"
    }
   ],
   "source": [
    "# df_user_from_origin\n",
    "run(driver, textwrap.dedent(\"\"\"\\\n",
    "    LOAD CSV WITH HEADERS FROM $file AS row\n",
    "    MATCH (user:User {id: toInteger(row.user_id)})\n",
    "    MATCH (origin:Origin {id: toInteger(row.origin_id)})\n",
    "    MERGE (user)-[r:FROM]->(origin)\n",
    "    RETURN count(r) AS FROM_count\n",
    "    \"\"\"),\n",
    "    params = {'file': url_user_from_origin}\n",
    ")"
   ]
  },
  {
   "cell_type": "code",
   "execution_count": 17,
   "metadata": {},
   "outputs": [
    {
     "data": {
      "text/plain": [
       "[<Record total_WROTE_count=90455 total_RATED_count=90455 total_REVIEWED_count=90455>]"
      ]
     },
     "execution_count": 17,
     "metadata": {},
     "output_type": "execute_result"
    }
   ],
   "source": [
    "# df_user_reviewed_poi\n",
    "run(driver, textwrap.dedent(\"\"\"\\\n",
    "    LOAD CSV WITH HEADERS FROM $file AS row\n",
    "    CALL{\n",
    "        WITH row\n",
    "        MATCH (user:User {id: toInteger(row.user_id)})\n",
    "        MATCH (review:Review {id: toInteger(row.review_id)})\n",
    "        MATCH (poi:Poi {id: toInteger(row.poi_id)})\n",
    "        MERGE (user)-[w:WROTE]->(review)\n",
    "        MERGE (review)-[rated:RATED]->(poi)\n",
    "        MERGE (user)-[reviewed:REVIEWED ]->(poi)\n",
    "        ON CREATE SET reviewed.rating = review.rating\n",
    "        RETURN count(w) AS WROTE_count, count(rated) AS RATED_count, count(reviewed) AS REVIEWED_count\n",
    "    } IN TRANSACTIONS\n",
    "    RETURN SUM(WROTE_count) AS total_WROTE_count, SUM(RATED_count) AS total_RATED_count, SUM(REVIEWED_count) AS total_REVIEWED_count\n",
    "    \"\"\"),\n",
    "    params = {'file': url_user_reviewed_poi}\n",
    ")"
   ]
  },
  {
   "cell_type": "markdown",
   "metadata": {},
   "source": [
    "# Close the driver"
   ]
  },
  {
   "cell_type": "code",
   "execution_count": 18,
   "metadata": {},
   "outputs": [],
   "source": [
    "driver.close()"
   ]
  }
 ],
 "metadata": {
  "kernelspec": {
   "display_name": "Python 3",
   "language": "python",
   "name": "python3"
  },
  "language_info": {
   "codemirror_mode": {
    "name": "ipython",
    "version": 3
   },
   "file_extension": ".py",
   "mimetype": "text/x-python",
   "name": "python",
   "nbconvert_exporter": "python",
   "pygments_lexer": "ipython3",
   "version": "3.12.0"
  }
 },
 "nbformat": 4,
 "nbformat_minor": 2
}
